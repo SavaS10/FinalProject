{
  "nbformat": 4,
  "nbformat_minor": 0,
  "metadata": {
    "colab": {
      "provenance": []
    },
    "kernelspec": {
      "name": "python3",
      "display_name": "Python 3"
    },
    "language_info": {
      "name": "python"
    }
  },
  "cells": [
    {
      "cell_type": "markdown",
      "source": [
        "My FinalYear project is going to be based on a trading strategy. I will be using the pair NIKKEI-VIX and from there I will be developing a mean reversion strategy using forecasting methods and a natural language processing model."
      ],
      "metadata": {
        "id": "2XkDoVo1cdXC"
      }
    },
    {
      "cell_type": "markdown",
      "source": [
        "First thing I will do is retrive the data and understand it as well as manipulate it."
      ],
      "metadata": {
        "id": "g0HOLVAZc1dH"
      }
    },
    {
      "cell_type": "code",
      "execution_count": null,
      "metadata": {
        "id": "5s0LlLiAcB7w"
      },
      "outputs": [],
      "source": [
        "#Libraries needed\n",
        "import pandas as pd\n",
        "import numpy as np\n",
        "import matplotlib.pyplot as plt\n",
        "import seaborn as sns\n",
        "import yfinance as yf"
      ]
    },
    {
      "cell_type": "code",
      "source": [
        " Vix = pd.DataFrame(yf.download('^VIX', start = '2023-1-1', end = '2025-3-20', interval = '1d'))\n",
        " nikkie = pd.DataFrame(yf.download('NKD=F', start = '2023-1-1', end = '2025-3-20', interval = '1d'))\n",
        "\n",
        "\n",
        " #Now I am going to study only the adjusted close, that is the data we are going to use for the model\n",
        "\n",
        " VixValues = Vix.Close\n",
        " NikkeiValues = nikkie.Close\n",
        "\n",
        " print(VixValues.describe())\n",
        " print(NikkeiValues.describe())\n",
        "\n",
        " #Now I check for any null values inside the data\n",
        "\n",
        " print(VixValues.isnull().sum())\n",
        " print(NikkeiValues.isnull().sum())\n",
        "\n",
        " #After seeing that there are no null values we know that the value the data is complete.\n",
        "#Lastly we are going to check the shape to check if it matches\n",
        "\n",
        " print(VixValues.shape)\n",
        " print(NikkeiValues.shape)\n"
      ],
      "metadata": {
        "colab": {
          "base_uri": "https://localhost:8080/"
        },
        "id": "PNDNH_CMdCHa",
        "outputId": "510371c8-cbc1-4a54-ca38-0d057e29fdab"
      },
      "execution_count": 11,
      "outputs": [
        {
          "output_type": "stream",
          "name": "stderr",
          "text": [
            "\r[*********************100%***********************]  1 of 1 completed\n",
            "ERROR:yfinance:\n",
            "1 Failed download:\n",
            "ERROR:yfinance:['^VIX']: YFRateLimitError('Too Many Requests. Rate limited. Try after a while.')\n",
            "[*********************100%***********************]  1 of 1 completed\n",
            "ERROR:yfinance:\n",
            "1 Failed download:\n",
            "ERROR:yfinance:['NKD=F']: YFRateLimitError('Too Many Requests. Rate limited. Try after a while.')\n"
          ]
        },
        {
          "output_type": "stream",
          "name": "stdout",
          "text": [
            "Ticker  ^VIX\n",
            "count    0.0\n",
            "mean     NaN\n",
            "std      NaN\n",
            "min      NaN\n",
            "25%      NaN\n",
            "50%      NaN\n",
            "75%      NaN\n",
            "max      NaN\n",
            "Ticker  NKD=F\n",
            "count     0.0\n",
            "mean      NaN\n",
            "std       NaN\n",
            "min       NaN\n",
            "25%       NaN\n",
            "50%       NaN\n",
            "75%       NaN\n",
            "max       NaN\n",
            "Ticker\n",
            "^VIX    0\n",
            "dtype: int64\n",
            "Ticker\n",
            "NKD=F    0\n",
            "dtype: int64\n",
            "(0, 1)\n",
            "(0, 1)\n"
          ]
        }
      ]
    },
    {
      "cell_type": "markdown",
      "source": [
        "In this step I visualize the data for a better understanding"
      ],
      "metadata": {
        "id": "pEOKcCUdhQsk"
      }
    },
    {
      "cell_type": "code",
      "source": [
        "#Here I am obteining the returns of the price in a 1 day period over 2 years\n",
        "#And its volatility over the two years of each month to check for similarities\n",
        "\n",
        "VixReturns = VixValues / VixValues.shift(1)\n",
        "VixReturns = VixReturns.dropna()\n",
        "\n",
        "VixVolatility = VixValues.pct_change().rolling(window = 21).std()\n",
        "VixVolatility = VixVolatility.dropna()\n",
        "\n",
        "\n",
        "\n",
        "NikkeiReturns = NikkeiValues / NikkeiValues.shift(1)\n",
        "NikkeiReturns = NikkeiReturns.dropna()\n",
        "\n",
        "NikkeiVolatility = NikkeiValues.pct_change().rolling(window = 21).std()\n",
        "NikkeiVolatility = NikkeiVolatility.dropna()\n",
        "\n",
        "#Here I will print the values for the returns and volatility as well as checking for null values\n",
        "\n",
        "print(VixReturns,NikkeiReturns)\n",
        "print(VixVolatility, NikkeiVolatility)"
      ],
      "metadata": {
        "colab": {
          "base_uri": "https://localhost:8080/"
        },
        "id": "h0FNcNkedbiz",
        "outputId": "7470e3af-e293-4722-b688-130c0aefa362"
      },
      "execution_count": null,
      "outputs": [
        {
          "output_type": "stream",
          "name": "stdout",
          "text": [
            "Empty DataFrame\n",
            "Columns: [^VIX]\n",
            "Index: [] Empty DataFrame\n",
            "Columns: [NKD=F]\n",
            "Index: []\n",
            "Empty DataFrame\n",
            "Columns: [^VIX]\n",
            "Index: [] Empty DataFrame\n",
            "Columns: [NKD=F]\n",
            "Index: []\n"
          ]
        }
      ]
    },
    {
      "cell_type": "code",
      "source": [
        "#After calculating the returns and the volatility I decide to plot it to visualize it.\n",
        "\n",
        "plt.figure(figsize = (10,6))\n",
        "plt.plot(VixReturns, label = 'Vix Returns')\n",
        "plt.title('Vix Returns')\n",
        "plt.xlabel('Date')\n",
        "plt.ylabel('Returns')\n",
        "plt.legend()\n",
        "\n",
        "\n",
        "\n",
        "plt.figure(figsize = (10,6))\n",
        "plt.plot(NikkeiReturns, label = 'Nikkei Returns')\n",
        "plt.title('Nikkei Returns')\n",
        "plt.xlabel('Date')\n",
        "plt.ylabel('Returns')\n",
        "plt.legend()\n",
        "\n",
        "plt.figure(figsize = (10,6))\n",
        "plt.plot(VixVolatility, label = 'Vix Volatility')\n",
        "plt.title('Vix Volatility')\n",
        "plt.xlabel('Date')\n",
        "plt.ylabel('Volatility')\n",
        "plt.legend()\n",
        "\n",
        "plt.figure(figsize = (10,6))\n",
        "plt.plot(NikkeiVolatility, label = 'Nikkei Volatility')\n",
        "plt.title('Nikkei Volatility')\n",
        "plt.xlabel('Date')\n",
        "plt.ylabel('Volatility')\n",
        "plt.legend()\n",
        "\n",
        "\n",
        "plt.show()"
      ],
      "metadata": {
        "colab": {
          "base_uri": "https://localhost:8080/",
          "height": 1000
        },
        "id": "8zuWl0CPihc8",
        "outputId": "0d2b4d3e-a8a9-4cc9-dce3-9303909f1e60"
      },
      "execution_count": null,
      "outputs": [
        {
          "output_type": "display_data",
          "data": {
            "text/plain": [
              "<Figure size 1000x600 with 1 Axes>"
            ],
            "image/png": "[encoded data removed]"
          },
          "metadata": {}
        },
        {
          "output_type": "display_data",
          "data": {
            "text/plain": [
              "<Figure size 1000x600 with 1 Axes>"
            ],
            "image/png": "[encoded data removed]"
          },
          "metadata": {}
        },
        {
          "output_type": "display_data",
          "data": {
            "text/plain": [
              "<Figure size 1000x600 with 1 Axes>"
            ],
            "image/png": "[encoded data removed]"
          },
          "metadata": {}
        },
        {
          "output_type": "display_data",
          "data": {
            "text/plain": [
              "<Figure size 1000x600 with 1 Axes>"
            ],
            "image/png": "[encoded data removed]"
          },
          "metadata": {}
        }
      ]
    },
    {
      "cell_type": "markdown",
      "source": [
        "After seeing that there are some similiarities in the times where the volume and returns spike, I will check for its corralation and conitegration between both"
      ],
      "metadata": {
        "id": "cNYkk-8JlFy1"
      }
    },
    {
      "cell_type": "code",
      "source": [
        "#Checking for corralation between both, first I will had the returns to the same dataframe\n",
        "\n",
        "Returns = pd.DataFrame(VixReturns, index = VixReturns.index)\n",
        "Returns['NKD=F'] = NikkeiReturns\n",
        "Returns.head()\n",
        "\n",
        "#Creating the corralation matrix\n",
        "\n",
        "corralation_matrix = Returns.corr()\n",
        "plt.figure(figsize=(8, 6))\n",
        "sns.heatmap(corralation_matrix, annot=True, cmap=\"coolwarm\", fmt=\".2f\")\n",
        "plt.title(\"Correlation Matrix: Gold Futures and Other Assets\")\n",
        "plt.show()\n",
        "\n",
        "# To check for cointegration we need to do the Engle-Granager test.\n",
        "\n",
        "import statsmodels.api as sm\n",
        "from statsmodels.tsa.stattools import coint\n",
        "\n",
        "#Here I perform the test\n",
        "\n",
        "coint_t,p_value,critical_values = coint(Returns['^VIX'], Returns['NKD=F'])\n",
        "\n",
        "print(f\"Cointegration Test Statistic: {coint_t}\")\n",
        "print(f\"P-value: {p_value}\")\n",
        "print(f\"Critical Values: {critical_values}\")"
      ],
      "metadata": {
        "colab": {
          "base_uri": "https://localhost:8080/",
          "height": 973
        },
        "id": "C_xMw2KClUJv",
        "outputId": "c0e23c75-f0ac-4c95-c86f-644c4523b6d5"
      },
      "execution_count": null,
      "outputs": [
        {
          "output_type": "stream",
          "name": "stderr",
          "text": [
            "/usr/local/lib/python3.11/dist-packages/seaborn/matrix.py:202: RuntimeWarning: All-NaN slice encountered\n",
            "  vmin = np.nanmin(calc_data)\n",
            "/usr/local/lib/python3.11/dist-packages/seaborn/matrix.py:207: RuntimeWarning: All-NaN slice encountered\n",
            "  vmax = np.nanmax(calc_data)\n"
          ]
        },
        {
          "output_type": "display_data",
          "data": {
            "text/plain": [
              "<Figure size 800x600 with 2 Axes>"
            ],
            "image/png": "[encoded data removed]"
          },
          "metadata": {}
        },
        {
          "output_type": "error",
          "ename": "ValueError",
          "evalue": "zero-size array to reduction operation maximum which has no identity",
          "traceback": [
            "\u001b[0;31m---------------------------------------------------------------------------\u001b[0m",
            "\u001b[0;31mValueError\u001b[0m                                Traceback (most recent call last)",
            "\u001b[0;32m<ipython-input-6-9c4c4317b46d>\u001b[0m in \u001b[0;36m<cell line: 0>\u001b[0;34m()\u001b[0m\n\u001b[1;32m     20\u001b[0m \u001b[0;31m#Here I perform the test\u001b[0m\u001b[0;34m\u001b[0m\u001b[0;34m\u001b[0m\u001b[0m\n\u001b[1;32m     21\u001b[0m \u001b[0;34m\u001b[0m\u001b[0m\n\u001b[0;32m---> 22\u001b[0;31m \u001b[0mcoint_t\u001b[0m\u001b[0;34m,\u001b[0m\u001b[0mp_value\u001b[0m\u001b[0;34m,\u001b[0m\u001b[0mcritical_values\u001b[0m \u001b[0;34m=\u001b[0m \u001b[0mcoint\u001b[0m\u001b[0;34m(\u001b[0m\u001b[0mReturns\u001b[0m\u001b[0;34m[\u001b[0m\u001b[0;34m'^VIX'\u001b[0m\u001b[0;34m]\u001b[0m\u001b[0;34m,\u001b[0m \u001b[0mReturns\u001b[0m\u001b[0;34m[\u001b[0m\u001b[0;34m'NKD=F'\u001b[0m\u001b[0;34m]\u001b[0m\u001b[0;34m)\u001b[0m\u001b[0;34m\u001b[0m\u001b[0;34m\u001b[0m\u001b[0m\n\u001b[0m\u001b[1;32m     23\u001b[0m \u001b[0;34m\u001b[0m\u001b[0m\n\u001b[1;32m     24\u001b[0m \u001b[0mprint\u001b[0m\u001b[0;34m(\u001b[0m\u001b[0;34mf\"Cointegration Test Statistic: {coint_t}\"\u001b[0m\u001b[0;34m)\u001b[0m\u001b[0;34m\u001b[0m\u001b[0;34m\u001b[0m\u001b[0m\n",
            "\u001b[0;32m/usr/local/lib/python3.11/dist-packages/statsmodels/tsa/stattools.py\u001b[0m in \u001b[0;36mcoint\u001b[0;34m(y0, y1, trend, method, maxlag, autolag, return_results)\u001b[0m\n\u001b[1;32m   1810\u001b[0m         \u001b[0mxx\u001b[0m \u001b[0;34m=\u001b[0m \u001b[0my1\u001b[0m\u001b[0;34m\u001b[0m\u001b[0;34m\u001b[0m\u001b[0m\n\u001b[1;32m   1811\u001b[0m     \u001b[0;32melse\u001b[0m\u001b[0;34m:\u001b[0m\u001b[0;34m\u001b[0m\u001b[0;34m\u001b[0m\u001b[0m\n\u001b[0;32m-> 1812\u001b[0;31m         \u001b[0mxx\u001b[0m \u001b[0;34m=\u001b[0m \u001b[0madd_trend\u001b[0m\u001b[0;34m(\u001b[0m\u001b[0my1\u001b[0m\u001b[0;34m,\u001b[0m \u001b[0mtrend\u001b[0m\u001b[0;34m=\u001b[0m\u001b[0mtrend\u001b[0m\u001b[0;34m,\u001b[0m \u001b[0mprepend\u001b[0m\u001b[0;34m=\u001b[0m\u001b[0;32mFalse\u001b[0m\u001b[0;34m)\u001b[0m\u001b[0;34m\u001b[0m\u001b[0;34m\u001b[0m\u001b[0m\n\u001b[0m\u001b[1;32m   1813\u001b[0m \u001b[0;34m\u001b[0m\u001b[0m\n\u001b[1;32m   1814\u001b[0m     \u001b[0mres_co\u001b[0m \u001b[0;34m=\u001b[0m \u001b[0mOLS\u001b[0m\u001b[0;34m(\u001b[0m\u001b[0my0\u001b[0m\u001b[0;34m,\u001b[0m \u001b[0mxx\u001b[0m\u001b[0;34m)\u001b[0m\u001b[0;34m.\u001b[0m\u001b[0mfit\u001b[0m\u001b[0;34m(\u001b[0m\u001b[0;34m)\u001b[0m\u001b[0;34m\u001b[0m\u001b[0;34m\u001b[0m\u001b[0m\n",
            "\u001b[0;32m/usr/local/lib/python3.11/dist-packages/statsmodels/tsa/tsatools.py\u001b[0m in \u001b[0;36madd_trend\u001b[0;34m(x, trend, prepend, has_constant)\u001b[0m\n\u001b[1;32m    132\u001b[0m             \u001b[0mcol_const\u001b[0m \u001b[0;34m=\u001b[0m \u001b[0mx\u001b[0m\u001b[0;34m.\u001b[0m\u001b[0mapply\u001b[0m\u001b[0;34m(\u001b[0m\u001b[0msafe_is_const\u001b[0m\u001b[0;34m,\u001b[0m \u001b[0;36m0\u001b[0m\u001b[0;34m)\u001b[0m\u001b[0;34m\u001b[0m\u001b[0;34m\u001b[0m\u001b[0m\n\u001b[1;32m    133\u001b[0m         \u001b[0;32melse\u001b[0m\u001b[0;34m:\u001b[0m\u001b[0;34m\u001b[0m\u001b[0;34m\u001b[0m\u001b[0m\n\u001b[0;32m--> 134\u001b[0;31m             \u001b[0mptp0\u001b[0m \u001b[0;34m=\u001b[0m \u001b[0mnp\u001b[0m\u001b[0;34m.\u001b[0m\u001b[0mptp\u001b[0m\u001b[0;34m(\u001b[0m\u001b[0mnp\u001b[0m\u001b[0;34m.\u001b[0m\u001b[0masanyarray\u001b[0m\u001b[0;34m(\u001b[0m\u001b[0mx\u001b[0m\u001b[0;34m)\u001b[0m\u001b[0;34m,\u001b[0m \u001b[0maxis\u001b[0m\u001b[0;34m=\u001b[0m\u001b[0;36m0\u001b[0m\u001b[0;34m)\u001b[0m\u001b[0;34m\u001b[0m\u001b[0;34m\u001b[0m\u001b[0m\n\u001b[0m\u001b[1;32m    135\u001b[0m             \u001b[0mcol_is_const\u001b[0m \u001b[0;34m=\u001b[0m \u001b[0mptp0\u001b[0m \u001b[0;34m==\u001b[0m \u001b[0;36m0\u001b[0m\u001b[0;34m\u001b[0m\u001b[0;34m\u001b[0m\u001b[0m\n\u001b[1;32m    136\u001b[0m             \u001b[0mnz_const\u001b[0m \u001b[0;34m=\u001b[0m \u001b[0mcol_is_const\u001b[0m \u001b[0;34m&\u001b[0m \u001b[0;34m(\u001b[0m\u001b[0mx\u001b[0m\u001b[0;34m[\u001b[0m\u001b[0;36m0\u001b[0m\u001b[0;34m]\u001b[0m \u001b[0;34m!=\u001b[0m \u001b[0;36m0\u001b[0m\u001b[0;34m)\u001b[0m\u001b[0;34m\u001b[0m\u001b[0;34m\u001b[0m\u001b[0m\n",
            "\u001b[0;32m/usr/local/lib/python3.11/dist-packages/numpy/_core/fromnumeric.py\u001b[0m in \u001b[0;36mptp\u001b[0;34m(a, axis, out, keepdims)\u001b[0m\n\u001b[1;32m   2771\u001b[0m     \u001b[0;32mif\u001b[0m \u001b[0mkeepdims\u001b[0m \u001b[0;32mis\u001b[0m \u001b[0;32mnot\u001b[0m \u001b[0mnp\u001b[0m\u001b[0;34m.\u001b[0m\u001b[0m_NoValue\u001b[0m\u001b[0;34m:\u001b[0m\u001b[0;34m\u001b[0m\u001b[0;34m\u001b[0m\u001b[0m\n\u001b[1;32m   2772\u001b[0m         \u001b[0mkwargs\u001b[0m\u001b[0;34m[\u001b[0m\u001b[0;34m'keepdims'\u001b[0m\u001b[0;34m]\u001b[0m \u001b[0;34m=\u001b[0m \u001b[0mkeepdims\u001b[0m\u001b[0;34m\u001b[0m\u001b[0;34m\u001b[0m\u001b[0m\n\u001b[0;32m-> 2773\u001b[0;31m     \u001b[0;32mreturn\u001b[0m \u001b[0m_methods\u001b[0m\u001b[0;34m.\u001b[0m\u001b[0m_ptp\u001b[0m\u001b[0;34m(\u001b[0m\u001b[0ma\u001b[0m\u001b[0;34m,\u001b[0m \u001b[0maxis\u001b[0m\u001b[0;34m=\u001b[0m\u001b[0maxis\u001b[0m\u001b[0;34m,\u001b[0m \u001b[0mout\u001b[0m\u001b[0;34m=\u001b[0m\u001b[0mout\u001b[0m\u001b[0;34m,\u001b[0m \u001b[0;34m**\u001b[0m\u001b[0mkwargs\u001b[0m\u001b[0;34m)\u001b[0m\u001b[0;34m\u001b[0m\u001b[0;34m\u001b[0m\u001b[0m\n\u001b[0m\u001b[1;32m   2774\u001b[0m \u001b[0;34m\u001b[0m\u001b[0m\n\u001b[1;32m   2775\u001b[0m \u001b[0;34m\u001b[0m\u001b[0m\n",
            "\u001b[0;32m/usr/local/lib/python3.11/dist-packages/numpy/_core/_methods.py\u001b[0m in \u001b[0;36m_ptp\u001b[0;34m(a, axis, out, keepdims)\u001b[0m\n\u001b[1;32m    230\u001b[0m \u001b[0;32mdef\u001b[0m \u001b[0m_ptp\u001b[0m\u001b[0;34m(\u001b[0m\u001b[0ma\u001b[0m\u001b[0;34m,\u001b[0m \u001b[0maxis\u001b[0m\u001b[0;34m=\u001b[0m\u001b[0;32mNone\u001b[0m\u001b[0;34m,\u001b[0m \u001b[0mout\u001b[0m\u001b[0;34m=\u001b[0m\u001b[0;32mNone\u001b[0m\u001b[0;34m,\u001b[0m \u001b[0mkeepdims\u001b[0m\u001b[0;34m=\u001b[0m\u001b[0;32mFalse\u001b[0m\u001b[0;34m)\u001b[0m\u001b[0;34m:\u001b[0m\u001b[0;34m\u001b[0m\u001b[0;34m\u001b[0m\u001b[0m\n\u001b[1;32m    231\u001b[0m     return um.subtract(\n\u001b[0;32m--> 232\u001b[0;31m         \u001b[0mumr_maximum\u001b[0m\u001b[0;34m(\u001b[0m\u001b[0ma\u001b[0m\u001b[0;34m,\u001b[0m \u001b[0maxis\u001b[0m\u001b[0;34m,\u001b[0m \u001b[0;32mNone\u001b[0m\u001b[0;34m,\u001b[0m \u001b[0mout\u001b[0m\u001b[0;34m,\u001b[0m \u001b[0mkeepdims\u001b[0m\u001b[0;34m)\u001b[0m\u001b[0;34m,\u001b[0m\u001b[0;34m\u001b[0m\u001b[0;34m\u001b[0m\u001b[0m\n\u001b[0m\u001b[1;32m    233\u001b[0m         \u001b[0mumr_minimum\u001b[0m\u001b[0;34m(\u001b[0m\u001b[0ma\u001b[0m\u001b[0;34m,\u001b[0m \u001b[0maxis\u001b[0m\u001b[0;34m,\u001b[0m \u001b[0;32mNone\u001b[0m\u001b[0;34m,\u001b[0m \u001b[0;32mNone\u001b[0m\u001b[0;34m,\u001b[0m \u001b[0mkeepdims\u001b[0m\u001b[0;34m)\u001b[0m\u001b[0;34m,\u001b[0m\u001b[0;34m\u001b[0m\u001b[0;34m\u001b[0m\u001b[0m\n\u001b[1;32m    234\u001b[0m         \u001b[0mout\u001b[0m\u001b[0;34m\u001b[0m\u001b[0;34m\u001b[0m\u001b[0m\n",
            "\u001b[0;31mValueError\u001b[0m: zero-size array to reduction operation maximum which has no identity"
          ]
        }
      ]
    },
    {
      "cell_type": "markdown",
      "source": [
        "After runing the corralation and cointegration we can see that they are both corralated and cointegrated at the same time.\n",
        "\n",
        " To check for the corralation we just need to see at the matrix, as we can see we get values of -0.56 meaning that they both have a negative corralation\n",
        "\n",
        " In terms of the cointegration we need to check for the p_value of the Engle-Granger test. As we can see we fail to reject the null hypothesis and we can say that both have a long-term relationship, meaning they are cointegrated.\n",
        "\n"
      ],
      "metadata": {
        "id": "Sm4EukIbn5zO"
      }
    },
    {
      "cell_type": "markdown",
      "source": [
        "The last thing of visualization to do is to plot both of them with their price scaled and see if there are some movements relevant for mean-reversion."
      ],
      "metadata": {
        "id": "44DUGlqQniIJ"
      }
    },
    {
      "cell_type": "code",
      "source": [
        "#This library is the one needed to scale values\n",
        "!pip install scikit-learn"
      ],
      "metadata": {
        "id": "B2W0LvRNokBS"
      },
      "execution_count": null,
      "outputs": []
    },
    {
      "cell_type": "code",
      "source": [
        "from sklearn.preprocessing import StandardScaler\n",
        "\n",
        "scaler = StandardScaler()\n",
        "\n",
        "\n",
        "Prices = pd.DataFrame(VixValues, index = VixValues.index)\n",
        "Prices['NKD=F'] = NikkeiValues\n",
        "\n",
        "#Here I are scaling the data using a standard scaler\n",
        "scaled_prices = scaler.fit_transform(Prices)\n",
        "scaled_prices = pd.DataFrame(scaled_prices, columns = Prices.columns, index = Prices.index)\n",
        "\n",
        "\n",
        "plt.figure(figsize=(12, 6))\n",
        "plt.plot(scaled_prices['^VIX'], label='Scaled VIX', color='blue')\n",
        "plt.plot(scaled_prices['NKD=F'], label='Scaled Nikkei', color='green')\n",
        "plt.title('Scaled VIX and Nikkei (2023-2025)')\n",
        "plt.xlabel('Date')\n",
        "plt.ylabel('Scaled Values')\n",
        "plt.legend()\n",
        "plt.grid(True)\n",
        "plt.show()\n",
        "\n"
      ],
      "metadata": {
        "id": "2xB4oAlhnh9p"
      },
      "execution_count": null,
      "outputs": []
    },
    {
      "cell_type": "markdown",
      "source": [
        "\n",
        "In the plot we can identify some patterns relevant to a mean-reversion strategy. This confirms my deseire to proceed with these pairs.\n",
        "\n",
        "\n",
        "\n",
        "The next step is retrieving sentimental data, this is the data we are going to use in our natural language processing model where it will give it a score depending on its importance. With this idea we manage to model market sentiment and take it into account for our model."
      ],
      "metadata": {
        "id": "EINK1iKzprv2"
      }
    },
    {
      "cell_type": "code",
      "source": [
        "#This library is needed for the process\n",
        "!pip install requests pandas transforms"
      ],
      "metadata": {
        "id": "AowN3kgfq9WD"
      },
      "execution_count": null,
      "outputs": []
    },
    {
      "cell_type": "code",
      "source": [
        "#Here I am going to retrive the data from a Free API key.\n",
        "\n",
        "import requests\n",
        "\n",
        "API_KEY = \"040662afeb88429db4f702eae6a96455\" #This key dosnt offer real time data, only from the previous day.\n",
        "QUERY = \"VIX OR United States stock market\" # This is tells the api to look for titles containing those key words.\n",
        "URL = f\"https://newsapi.org/v2/everything?q={QUERY}&language=en&sortBy=publishedAt&apiKey={API_KEY}\"\n",
        "\n",
        "#Retrieving the news\n",
        "response = requests.get(URL)\n",
        "data = response.json()\n",
        "\n",
        "#Here I extract the relevant information, create a dataframe and visualize it\n",
        "articles = data[\"articles\"]\n",
        "news_data = [{\"date\": article[\"publishedAt\"], \"title\": article[\"title\"], \"content\": article[\"description\"]} for article in articles]\n",
        "\n",
        "\n",
        "News = pd.DataFrame(news_data)\n",
        "print(News.tail())\n",
        "\n",
        "\n",
        "print(News.shape)\n"
      ],
      "metadata": {
        "id": "QNVFzo18opNa"
      },
      "execution_count": null,
      "outputs": []
    },
    {
      "cell_type": "markdown",
      "source": [
        "As we can see we get data only from the last day,this does limit our model but we can still use this data to understand how our model would work with real time data and backtest it.\n"
      ],
      "metadata": {
        "id": "ejlXgI8Estp4"
      }
    },
    {
      "cell_type": "markdown",
      "source": [
        "Now after retrieving news data and understanding it, we are going to give it a score value. This will then be used in our models. I will achive this by using FinBERT a deep learning model focused in natural language processing."
      ],
      "metadata": {
        "id": "m7c53IMrtfWO"
      }
    },
    {
      "cell_type": "code",
      "source": [
        "# I retrive the function needed\n",
        "from transformers import pipeline\n",
        "\n",
        "# I just create the pipeline using FinBert\n",
        "sentiment_pipeline = pipeline(\"text-classification\", model=\"ProsusAI/finbert\")\n",
        "\n",
        "#And hgere I append the values of the score and sentiment to the dataframe\n",
        "News[\"sentiment\"] = News[\"title\"].apply(lambda x: sentiment_pipeline(x)[0]['label'])\n",
        "News[\"sentiment_score\"] = News[\"title\"].apply(lambda x: sentiment_pipeline(x)[0]['score'])\n",
        "\n",
        "News"
      ],
      "metadata": {
        "id": "5gqil20cu9K0"
      },
      "execution_count": null,
      "outputs": []
    },
    {
      "cell_type": "markdown",
      "source": [
        "As shown in the data frame abouve, we can identify the two new columns.\n",
        "\n",
        "Sentiment: Meaning what the sentiment of the news is for the asset, in my case the VIX\n",
        "\n",
        "\n",
        "\n",
        "Sentimnet score : This value indicates the confidence the model has for its prediction\n"
      ],
      "metadata": {
        "id": "zvZ2BULhTVwy"
      }
    },
    {
      "source": [
        "#Here I create a visualization to see the distribution of the sentiment values\n",
        "from matplotlib import pyplot as plt\n",
        "import seaborn as sns\n",
        "News.groupby('sentiment').size().plot(kind='barh', color=sns.palettes.mpl_palette('Dark2'))\n",
        "plt.gca().spines[['top', 'right',]].set_visible(False)"
      ],
      "cell_type": "code",
      "execution_count": null,
      "outputs": [],
      "metadata": {
        "id": "mXeQl0rsVZ-r"
      }
    },
    {
      "cell_type": "markdown",
      "source": [
        "The distribution shown is skewed to neutral sentiment. This is something realistic as a lot of the news is not relevant for the VIX"
      ],
      "metadata": {
        "id": "wqACvJ_0m-e-"
      }
    },
    {
      "cell_type": "markdown",
      "source": [
        "In this stage, after retreaving all the data needed, making sure its aligned and that it has the necessary values. I can begin craeting the mean-reversion algorithm.\n",
        "\n",
        "For this I decided to shrink the data range, backtesting the model only from 2025-2-5 till 2025-3-20 on an hourly frame. This dates where chosen as the market suffered strong volatilty movements due to US news."
      ],
      "metadata": {
        "id": "wLR99nTBVjTT"
      }
    },
    {
      "cell_type": "code",
      "source": [
        "#Retrieving data from a smaller time frame\n",
        "#This is done because I dont whant it to take into account events that happened in the past\n",
        "vixTrade = pd.DataFrame(yf.download('^VIX', start = '2025-2-5', end = '2025-3-20', interval = '1h'))\n",
        "nikkieTrade = pd.DataFrame(yf.download('NKD=F', start = '2025-2-5', end = '2025-3-20', interval = '1h'))\n",
        "\n",
        "vixTradeValues = vixTrade.Close\n",
        "nikkieTradeValues = nikkieTrade.Close\n",
        "\n",
        "#Scaling the values to create the sequence\n",
        "\n",
        "TradedValues = pd.DataFrame(vixTradeValues, index = vixTradeValues.index)\n",
        "TradedValues['NKD=F'] = nikkieTradeValues\n",
        "TradedValues = TradedValues.dropna()\n",
        "\n",
        "\n",
        "Scaled_TradedValues = scaler.fit_transform(TradedValues)\n",
        "Scaled_TradedValues = pd.DataFrame(Scaled_TradedValues, columns = TradedValues.columns, index = TradedValues.index)\n",
        "\n",
        "print(Scaled_TradedValues.head())\n",
        "\n",
        "\n",
        "#Now I plot it just to viualize its movement in a shorter timeframe\n",
        "\n",
        "plt.plot(Scaled_TradedValues['^VIX'], label='Scaled VIX', color='blue')\n",
        "plt.plot(Scaled_TradedValues['NKD=F'], label='Scaled Nikkei', color='green')\n",
        "plt.title('Vix and Nikkei (2024-2025,1h)')\n",
        "plt.xlabel('Date')\n",
        "plt.ylabel('Scaled Values')\n",
        "plt.legend()\n",
        "plt.grid(True)\n",
        "plt.show()\n",
        "\n",
        "\n",
        "\n"
      ],
      "metadata": {
        "id": "Nk3W4Ks3OzvI"
      },
      "execution_count": null,
      "outputs": []
    },
    {
      "cell_type": "markdown",
      "source": [
        "Now I will define the spread, for this I need to make sure its a fair value and this is done to make sure that the relationships between the two assets is adjusted. To achived this I used an OLS model."
      ],
      "metadata": {
        "id": "6UvXXxkVQyEa"
      }
    },
    {
      "cell_type": "code",
      "source": [
        "\n",
        "import statsmodels.api as sm\n",
        "\n",
        "#Adding the intercet for the vix and the creation of the OLS\n",
        "\n",
        "x = sm.add_constant(Scaled_TradedValues['^VIX'])\n",
        "y= Scaled_TradedValues['NKD=F']\n",
        "\n",
        "#Now I fit the model\n",
        "\n",
        "model = sm.OLS(y,x).fit()\n",
        "\n",
        "#I get the coeficinets\n",
        "\n",
        "alpha, beta = model.params\n",
        "\n",
        "model.summary()\n",
        "\n",
        "\n",
        "#I store the values of the fair value of the nikkei\n",
        "\n",
        "Scaled_TradedValues['FairValues_NKD=F'] = alpha + beta * Scaled_TradedValues['^VIX']\n",
        "\n",
        "\n",
        "#Lastly I calculate the fair spread\n",
        "spread = Scaled_TradedValues['NKD=F'] - Scaled_TradedValues['FairValues_NKD=F']\n",
        "\n",
        "mean_spread = spread.mean()\n",
        "\n",
        "plt.plot(spread, label='Spread', color='blue')\n",
        "plt.title('Spread')\n",
        "plt.axhline(y=mean_spread, color='pink', linestyle='--')\n",
        "plt.xlabel('Date')\n",
        "plt.ylabel('Spread')\n",
        "plt.legend()\n",
        "plt.grid(True)\n",
        "plt.show()"
      ],
      "metadata": {
        "id": "8P9RMR_VR2_K"
      },
      "execution_count": null,
      "outputs": []
    },
    {
      "cell_type": "markdown",
      "source": [
        "The plot above shows the spreads movement over the preido of the backtest. You can identify strong mean-reverting behaviours, indicating opportunities for my mean-reverting model.\n",
        "\n",
        "\n",
        "After calculating the spread I will first check if its stationary,\n",
        "this is one of the most important topics for mean-reversion strategies"
      ],
      "metadata": {
        "id": "EExsbIxCkgmM"
      }
    },
    {
      "cell_type": "code",
      "source": [
        "from statsmodels.tsa.stattools import adfuller\n",
        "\n",
        "#This is the Adam fuller test, this helps us understand if the data is stationary or not, this is a very key point of the mean-reversion strategy.\n",
        "adf_test = adfuller(spread)\n",
        "\n",
        "print(f\"ADF Statistic: {adf_test[0]}\")\n",
        "print(f\"p-value: {adf_test[1]}\")\n"
      ],
      "metadata": {
        "id": "BdfS26dWkp2f"
      },
      "execution_count": null,
      "outputs": []
    },
    {
      "cell_type": "markdown",
      "source": [
        "After doing the adfuller test we can see that it fails to reject the null hypothesis but due to the risk of differencing and because it only rejects it by a little I will stick with this sread. In cases where the spread is storgly non-stationary differencing needs to be applied to make it stationary but this  eliminates some long-term relationships and adds unnecesary noise, something crucial for my model. Afer this, I am going to define the upper and lower bands for the trading model, these are just the base from where the sentiment analysis will adjust the thresholds.\n",
        "\n"
      ],
      "metadata": {
        "id": "N8R46BUJUD0x"
      }
    },
    {
      "cell_type": "code",
      "source": [
        "#Creating the data base for the spread\n",
        "\n",
        "df_spread = pd.DataFrame(spread, index = Scaled_TradedValues.index, columns = ['Spread'])\n",
        "df_spread.index = pd.to_datetime(df_spread.index)\n",
        "df_spread.set_index(df_spread.index,inplace = True)\n",
        "print(df_spread.tail())\n",
        "print(spread.shape)\n",
        "#Now I am going to define the upper and lower bands of the strategy\n",
        "\n",
        "upperbound = spread.mean() + 1.5 * spread.std()\n",
        "lowerbound = spread.mean() - 1.5 * spread.std()\n",
        "\n",
        "plt.plot(spread, label='Spread', color='blue')\n",
        "plt.title('Spread')\n",
        "plt.axhline(y=mean_spread, color='pink', linestyle='--')\n",
        "plt.axhline(y=upperbound, color='red', linestyle='--')\n",
        "plt.axhline(y=lowerbound, color='green', linestyle='--')"
      ],
      "metadata": {
        "id": "lkRQXF6O2IPc"
      },
      "execution_count": null,
      "outputs": []
    },
    {
      "cell_type": "markdown",
      "source": [
        "As we can see in the plot, the spread does actually touch the barriers and then revert to the mean. What we are goign to do know is use the ARIMA model as a confirmation of the reversion of the spread."
      ],
      "metadata": {
        "id": "HGB8TYOr4Z5V"
      }
    },
    {
      "cell_type": "markdown",
      "source": [
        " I decided to use an ARMIA model, knowing that the spread is stationary and univariate. I will follow the idea proposed, I will predict the next value of the spread after it touches one of the barriers."
      ],
      "metadata": {
        "id": "77zQmAvOhBAl"
      }
    },
    {
      "cell_type": "markdown",
      "source": [
        "Next step is to create a funcion that we will call when the price of the spread crosses one of the barriers and implement the ARIMA model"
      ],
      "metadata": {
        "id": "LuckTYyJhhpi"
      }
    },
    {
      "cell_type": "code",
      "source": [
        "!pip install statsmodels\n",
        "\n"
      ],
      "metadata": {
        "id": "T39m-qtQb-hx"
      },
      "execution_count": null,
      "outputs": []
    },
    {
      "cell_type": "code",
      "source": [
        "from statsmodels.tsa.arima.model import ARIMA\n",
        "\n",
        "\n",
        "\n",
        "#This function is used to test different parameters of the ARIMA values.\n",
        "\n",
        "\n",
        "#Here I define the function\n",
        "def arima_prediction(spread_data):\n",
        "\n",
        "    model = ARIMA(spread_data, order=(2,0, 2))\n",
        "    model_fit = model.fit()\n",
        "    forecast = model_fit.forecast(steps=1)\n",
        "    print(model_fit.summary())\n",
        "    return forecast\n",
        "\n",
        "print(arima_prediction(spread))\n",
        "\n",
        "\n",
        "#After comparing different resutls I choose (2,0,2) as the values for the ARIMA model, the results can be seen below"
      ],
      "metadata": {
        "id": "cF7AdwQYlFGn"
      },
      "execution_count": null,
      "outputs": []
    },
    {
      "cell_type": "markdown",
      "source": [
        "The selection of the parameters 2,0,2 shows promise for its implementation with the spread."
      ],
      "metadata": {
        "id": "c5z02rffYmpZ"
      }
    },
    {
      "cell_type": "markdown",
      "source": [
        "Now I am going to create the trading strategy.\n",
        "\n",
        "\n",
        "---\n",
        "\n",
        "Firstly I need to account for the news data only being from a previous day. What I decided to do was to use every news data point as an individual date, matching the data range from the spread. This way each day of the spread I can use a new news article matching that date to dinamically adjust the barriers. This is a solution to the challenge of having a Free API. In real time scenarions, real-time data would be used to adjust the barriers.\n",
        "\n"
      ],
      "metadata": {
        "id": "uH5Pf5LA-GaC"
      }
    },
    {
      "cell_type": "code",
      "source": [
        "\n",
        "News['date_only'] = pd.to_datetime(News['date']).dt.date\n",
        "\n",
        "# I add a counter for itraday sequence\n",
        "News['intraday_seq'] = News.groupby('date_only').cumcount() + 1\n",
        "\n",
        "# Here I create the artificial dates\n",
        "start_date = pd.to_datetime(\"2025-02-05\")  # Your backtest start date\n",
        "News['artificial_date'] = start_date + pd.to_timedelta(News.groupby('date_only').cumcount(), unit='D')\n",
        "News = News[News['artificial_date'].between(start_date,pd.to_datetime(\"2025-03-22\"))]\n",
        "\n",
        "#Lastly I create the map\n",
        "sentiment_map = (\n",
        "    News.set_index('artificial_date')\n",
        "    [['sentiment', 'sentiment_score']]\n",
        "    .to_dict(orient='index')\n",
        ")\n",
        "\n",
        "print(pd.DataFrame.from_dict(sentiment_map, orient='index'))\n"
      ],
      "metadata": {
        "id": "6Yv6mYw9KWoV"
      },
      "execution_count": null,
      "outputs": []
    },
    {
      "cell_type": "markdown",
      "source": [
        "After sucessfully converting the day worth of news data into individual days, I a model the actual trading strategy."
      ],
      "metadata": {
        "id": "J16ft7fHZjRx"
      }
    },
    {
      "cell_type": "code",
      "source": [
        "\n",
        "# I define the function to backtest my algorithm\n",
        "def backtest_mean_reversion(spread, nikkei, vix, initial_capital=10000, news_data=None):\n",
        "\n",
        "  # I reset the index to make sure they are all aligned\n",
        "    spread = spread.reset_index(drop=True)\n",
        "    nikkei = nikkei.reset_index(drop=True)\n",
        "    vix = vix.reset_index(drop=True)\n",
        "\n",
        "\n",
        "    #here I definde the index of the spread and the frequency, in my case hourly\n",
        "    if not hasattr(spread, 'index') or not isinstance(spread.index, pd.DatetimeIndex):\n",
        "        spread.index = pd.date_range(start=\"2025-02-05\", periods=len(spread),freq = 'H')\n",
        "        print(spread.shape)\n",
        "\n",
        "    # I define the variables to calculate the barriers and the risk taken per trade\n",
        "    multiplier = 1.5\n",
        "    risk_per_trade = 0.25\n",
        "    mean_spread = spread.mean()\n",
        "    std_spread = spread.std()\n",
        "\n",
        "\n",
        "    # Now I initialize all the variables used in my algorithm\n",
        "    trade = None\n",
        "    entry_price = entry_nikkei = entry_vix = entry_date = None\n",
        "    capital = available_capital = initial_capital\n",
        "    trades = []\n",
        "    barrier_history = []\n",
        "\n",
        "    upper_bound = None\n",
        "    lower_b = None\n",
        "    previous_date = None\n",
        "\n",
        "\n",
        "    #This is the code used to define the barriers on a daily bases, i iterate over the values of the spread\n",
        "    # and I calculate the barriers using the sentiment for each day of data\n",
        "\n",
        "    for i in range(len(spread)):\n",
        "        current_date = spread.index[i]\n",
        "        current_spread = spread.iloc[i]\n",
        "        current_nikkei = nikkei.iloc[i]\n",
        "        current_vix = vix.iloc[i]\n",
        "\n",
        "        # I definde the values of the sentiment, and if the day has no news I give it a sentiment score of 0\n",
        "        if current_date.date() != previous_date:\n",
        "            sentiment_info = news_data.get(current_date, {'sentiment': 'neutral', 'sentiment_score': 0})\n",
        "            sentiment_score = sentiment_info['sentiment_score']\n",
        "            if sentiment_info['sentiment'] == 'negative':\n",
        "                sentiment_score *= -1\n",
        "            if sentiment_info['sentiment'] == 'neutral':\n",
        "                sentiment_score = 0\n",
        "\n",
        "\n",
        "            # Here I performe the calculation of the barriers\n",
        "            sentiment_adjustment = 1 - (0.2 * sentiment_score)\n",
        "            upper_bound = mean_spread + multiplier * std_spread * sentiment_adjustment\n",
        "            lower_bound = mean_spread - multiplier * std_spread * sentiment_adjustment\n",
        "\n",
        "            # This line updates the previous date to the current date\n",
        "            previous_date = current_date.date()\n",
        "\n",
        "\n",
        "        # Lastly for the barriers I append the values so I can get a better understanding\n",
        "        barrier_history.append({\n",
        "            'date': current_date,\n",
        "            'spread': current_spread,\n",
        "            'upper': upper_bound,\n",
        "            'lower': lower_bound,\n",
        "            'mean': mean_spread,\n",
        "            'sentiment': sentiment_score\n",
        "        })\n",
        "\n",
        "\n",
        "        #THIS IS THE CODE USED FOR THE TRADING MODEL\n",
        "\n",
        "\n",
        "        # First I define the trading idea for exiting a trade\n",
        "        if trade in [\"Long\", \"Short\"]:\n",
        "          #This is the condition to exit the trade, if we are in a trade we check for the spread to revert to the mean\n",
        "            is_exit = (trade == \"Long\" and current_spread >= mean_spread) or \\\n",
        "                      (trade == \"Short\" and current_spread <= mean_spread)\n",
        "\n",
        "\n",
        "            # Here I calculate the return value for the nikkei and the vix after exiting a trade, I also calculate the total captial change\n",
        "            if is_exit:\n",
        "                nikkei_return = ((entry_nikkei - current_nikkei) if trade == \"Long\" else (current_nikkei - entry_nikkei)) / entry_nikkei\n",
        "                vix_return = ((current_vix - entry_vix) if trade == \"Long\" else (entry_vix - current_vix)) / entry_vix\n",
        "                trade_return = (nikkei_return + vix_return) / 2\n",
        "                capital_change = position_size * trade_return\n",
        "                capital += capital_change\n",
        "                available_capital += position_size + capital_change\n",
        "\n",
        "\n",
        "                # Here I append the values of the trades for further understanding\n",
        "                trades.append({\n",
        "                    'type': trade,\n",
        "                    'entry_date': entry_date,\n",
        "                    'exit_date': current_date,\n",
        "                    'entry_spread': entry_price,\n",
        "                    'exit_spread': current_spread,\n",
        "                    'nikkei_entry': entry_nikkei,\n",
        "                    'vix_entry': entry_vix,\n",
        "                    'nikkei_exit': current_nikkei,\n",
        "                    'vix_exit': current_vix,\n",
        "                    'return': trade_return,\n",
        "                    'capital': capital,\n",
        "                    'sentiment': sentiment_score,\n",
        "                    'sentiment info' : sentiment_info['sentiment'],\n",
        "                    'news': news_data.get(entry_date, {}).get('title', 'No news')\n",
        "                })\n",
        "\n",
        "                print(f\"\\n\\u27a1 Exit {trade} on {current_date.date()} | Return: {trade_return*100:.2f}% | Capital: ${capital:.2f}\")\n",
        "                trade = None\n",
        "\n",
        "\n",
        "        #This is the code used to enter trades based on the spread\n",
        "\n",
        "        #First I check if the captial is sufficient\n",
        "        elif available_capital >= initial_capital * risk_per_trade:\n",
        "            position_size = initial_capital * risk_per_trade\n",
        "            arima_entry = False\n",
        "\n",
        "            # I definde the two circunstances where the model can enter a trade\n",
        "            if current_spread > upper_bound:\n",
        "                signal = \"Short\"\n",
        "                condition = \"Predicted < Current\"\n",
        "                expected_move = \"mean reversion downward\"\n",
        "\n",
        "            elif current_spread < lower_bound:\n",
        "                signal = \"Long\"\n",
        "                condition = \"Predicted > Current\"\n",
        "                expected_move = \"mean reversion upward\"\n",
        "            else:\n",
        "                continue\n",
        "\n",
        "            try:\n",
        "              #I define the ARIMA model discussed previously\n",
        "                model = ARIMA(spread.iloc[:i+1], order=(2, 0, 2))\n",
        "                model_fit = model.fit()\n",
        "                predicted = model_fit.forecast()[0]\n",
        "\n",
        "\n",
        "                #This code is used to confirm the entry of the trade with the ARIMA model if a previous singal was given\n",
        "                if (signal == \"Long\" and predicted > current_spread) or (signal == \"Short\" and predicted < current_spread):\n",
        "                    trade = signal\n",
        "                    entry_price = current_spread\n",
        "                    entry_nikkei = current_nikkei\n",
        "                    entry_vix = current_vix\n",
        "                    entry_date = current_date\n",
        "                    available_capital -= position_size\n",
        "\n",
        "\n",
        "                    print(f\"Opportunity on {current_date.date()} | Forecast: {predicted:.4f} ({condition}) -> Expecting {expected_move} CurrentSpread: {current_spread:.4f} | Sentiment Score: {sentiment_score:.2f} | Sentiment : {sentiment_info['sentiment']} \")\n",
        "                    print(f\"Position: ${position_size:.2f}\")\n",
        "\n",
        "                else:\n",
        "                    print(f\"ARIMA: Waiting for confirmation - {signal} not confirmed\")\n",
        "            except Exception as e:\n",
        "                print(f\"ARIMA Error on {current_date}: {e}\")\n",
        "\n",
        "\n",
        "    # Lastly I calculate the returs of the algorithm as well as the win rate and the average return\n",
        "    total_return = (capital / initial_capital - 1) * 100\n",
        "    num_trades = len(trades)\n",
        "    win_rate = np.mean([t['return'] > 0 for t in trades]) * 100 if trades else 0\n",
        "    avg_return = np.mean([t['return'] for t in trades]) * 100 if trades else 0\n",
        "    returns = [t['return'] for t in trades]\n",
        "    sharpe_ratio = (np.mean(returns) / np.std(returns)) * np.sqrt(252) if len(returns) > 1 and np.std(returns) != 0 else np.nan\n",
        "    equity_curve = [initial_capital]\n",
        "    current_capital = initial_capital\n",
        "\n",
        "    print(\"\\n=== Backtest Summary ===\")\n",
        "    print(f\"Initial Capital: ${initial_capital:.2f}\")\n",
        "    print(f\"Final Capital: ${capital:.2f}\")\n",
        "    print(f\"Total Return: {total_return:.2f}%\")\n",
        "    print(f\"Trades Executed: {num_trades}\")\n",
        "    print(f\"Win Rate: {win_rate:.2f}%\")\n",
        "    print(f\"Avg Return/Trade: {avg_return:.2f}%\")\n",
        "    print(f\"Sharpe Ratio: {sharpe_ratio:.2f}\")\n",
        "\n",
        "\n",
        "\n",
        "    # For a better understanding I also plot the entries on the graph of the spread, this allowes me to better understand the algorithm.\n",
        "    barrier_df = pd.DataFrame(barrier_history).set_index('date')\n",
        "    plt.figure(figsize=(14, 7))\n",
        "    plt.plot(barrier_df.index, barrier_df['spread'], label='Spread', color='blue', alpha=0.7)\n",
        "    plt.plot(barrier_df.index, barrier_df['upper'], '--', label='Upper Barrier', color='red', alpha=0.5)\n",
        "    plt.plot(barrier_df.index, barrier_df['lower'], '--', label='Lower Barrier', color='green', alpha=0.5)\n",
        "    plt.axhline(y=mean_spread, color='black', linestyle='-', label='Mean')\n",
        "\n",
        "    for t in trades:\n",
        "        #This is to plot the entries of the algorithm\n",
        "        plt.plot(t['entry_date'], spread.loc[t['entry_date']],\n",
        "             marker='o', color='green' if t['type'] == 'Long' else 'red')\n",
        "\n",
        "        plt.plot(t['exit_date'], spread.loc[t['exit_date']],\n",
        "             marker='o', color='blue')\n",
        "\n",
        "        #This is for the calculation of the equity curve\n",
        "        current_capital += t['return'] * initial_capital\n",
        "        equity_curve.append(current_capital)\n",
        "\n",
        "        trade_dates = [t['exit_date'] for t in trades]\n",
        "        trade_dates = [spread.index[0]] + trade_dates  # to start from the beginning\n",
        "\n",
        "    plt.figure(figsize=(10, 5))\n",
        "    plt.hist(returns, bins=8, color='skyblue', edgecolor='black')\n",
        "    plt.title(\"Histogram of Trade Returns\")\n",
        "    plt.xlabel(\"Return\")\n",
        "    plt.ylabel(\"Frequency\")\n",
        "    plt.grid(True)\n",
        "    plt.tight_layout()\n",
        "    plt.show()\n",
        "\n",
        "    #This is the plot of the Equity curve\n",
        "    plt.figure(figsize=(12, 6))\n",
        "    plt.plot(trade_dates, equity_curve, label='Equity Curve', color='purple', linewidth=2)\n",
        "    plt.title(\"Equity Curve Over Time\")\n",
        "    plt.xlabel(\"Date\")\n",
        "    plt.ylabel(\"Capital ($)\")\n",
        "    plt.grid(True)\n",
        "    plt.legend()\n",
        "    plt.tight_layout()\n",
        "    plt.show()\n",
        "\n",
        "    return {\n",
        "        'capital': capital,\n",
        "        'trades': pd.DataFrame(trades),\n",
        "        'total_return': total_return,\n",
        "        'num_trades': num_trades,\n",
        "        'win_rate': win_rate,\n",
        "        'avg_return': avg_return,\n",
        "        'barrier_history': barrier_df\n",
        "    }\n",
        "\n",
        "\n",
        "# Calling the funciton with the values I desire, this allows me to also use different assets and different capital allocation to compare.\n",
        "results = backtest_mean_reversion(\n",
        "    spread=spread ,\n",
        "    nikkei=TradedValues['NKD=F'],\n",
        "    vix=TradedValues['^VIX'],\n",
        "    initial_capital=10000,\n",
        "    news_data=sentiment_map\n",
        ")\n"
      ],
      "metadata": {
        "id": "WFPOkod1SkW-"
      },
      "execution_count": null,
      "outputs": []
    },
    {
      "cell_type": "markdown",
      "source": [
        "Finally we can see the results of the model, We can see that during the backtested period  the model performed quite well, offering a profitable month and a half. There are still some things that need to be look at but this model shows promise for real-world implementations."
      ],
      "metadata": {
        "id": "ifZmJ_6IgDKJ"
      }
    }
  ]
}